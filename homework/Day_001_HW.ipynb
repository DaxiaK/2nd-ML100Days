{
 "cells": [
  {
   "cell_type": "markdown",
   "metadata": {},
   "source": [
    "\n",
    "作業1：\n",
    "\n",
    "請上 Kaggle, 在 Competitions 或 Dataset 中找一組競賽或資料並寫下：\n",
    "\n",
    "Quick draw:\n",
    "https://www.kaggle.com/c/quickdraw-doodle-recognition\n",
    "\n",
    "1. 你選的這組資料為何重要\n",
    "這類的資料應該是屬於企業的核⼼問題。因為它可以為企業提供更具競爭優勢的辨識能力來領先競爭對手。\n",
    "這組資料是由google規劃的一個小遊戲，雖然看起來只是遊戲，但如同他的介紹所說的這種猜測的功能對於 OCR (Optical Character Recognition), ASR (Automatic Speech Recognition) & NLP (Natural Language Processing) 是有很強大的影響力。\n",
    "甚至未來可以透過使用者的操作來預測使用者的意圖。\n",
    "\n",
    "\n",
    "2. 資料從何而來 (tips: 譬如提供者是誰、以什麼方式蒐集)\n",
    "由google提供，主要來源為：https://quickdraw.withgoogle.com/ 這個網站使用者上去玩所產生的資料。\n",
    "\n",
    "3. 蒐集而來的資料型態為何\n",
    "csv格式，\n",
    "格式為\n",
    "{ \n",
    "    \"key_id\":\"5891796615823360\",\n",
    "    \"word\":\"nose\",\n",
    "    \"countrycode\":\"AE\",\n",
    "    \"timestamp\":\"2017-03-01 20:41:36.70725 UTC\",\n",
    "    \"recognized\":true,\n",
    "    \"drawing\":[[[129,128,129,129,130,130,131,132,132,133,133,133,133,...]]]\n",
    "}\n",
    "可以看到重點在辨識的單字，成功與否和繪圖座標\n",
    "\n",
    "4. 這組資料想解決的問題如何評估\n",
    "根據MAP@3提交\n",
    "\n",
    "作業2：\n",
    "\n",
    "想像你經營一個自由載客車隊，你希望能透過數據分析以提升業績，請你思考並描述你如何規劃整體的分析/解決方案：\n",
    "\n",
    "1. 核心問題為何 (tips：如何定義 「提升業績 & 你的假設」)\n",
    "我假定要提昇的業績的話需要提升載客總時間，並減少空車率，並探討開車時段的對空車率的影響。\n",
    "\n",
    "2. 資料從何而來 (tips：哪些資料可能會對你想問的問題產生影響 & 資料如何蒐集)\n",
    "從每台車子上機器所記錄的載客時間統計與機器的開車時間。\n",
    "\n",
    "3. 蒐集而來的資料型態為何\n",
    "應為：\n",
    "汽車編號，開車總時間，載客時間\n",
    "\n",
    "4. 你要回答的問題，其如何評估 (tips：你的假設如何驗證)\n",
    "由AUC來判斷有效的載客時間。\n",
    "\n",
    "## 練習時間\n",
    "#### 請寫一個函式用來計算 Mean Square Error\n",
    "$ MSE = \\frac{1}{n}\\sum_{i=1}^{n}{(Y_i - \\hat{Y}_i)^2} $\n",
    "\n",
    "### Hint: [如何取平方](https://googoodesign.gitbooks.io/-ezpython/unit-1.html)"
   ]
  },
  {
   "cell_type": "code",
   "execution_count": 42,
   "metadata": {},
   "outputs": [],
   "source": [
    "import numpy as np\n",
    "import matplotlib.pyplot as plt"
   ]
  },
  {
   "cell_type": "code",
   "execution_count": 50,
   "metadata": {},
   "outputs": [
    {
     "ename": "IndentationError",
     "evalue": "unindent does not match any outer indentation level (<tokenize>, line 11)",
     "output_type": "error",
     "traceback": [
      "\u001b[0;36m  File \u001b[0;32m\"<tokenize>\"\u001b[0;36m, line \u001b[0;32m11\u001b[0m\n\u001b[0;31m    mse = sum((yp-y)**2)/len(y)\u001b[0m\n\u001b[0m    ^\u001b[0m\n\u001b[0;31mIndentationError\u001b[0m\u001b[0;31m:\u001b[0m unindent does not match any outer indentation level\n"
     ]
    }
   ],
   "source": [
    "def my_mean_squared_error(y, yp):\n",
    "      \"\"\"\n",
    "    計算 MSE\n",
    "    Args:\n",
    "        - y: 實際值\n",
    "        - yp: 預測值\n",
    "    Return:\n",
    "        - mae: MAE\n",
    "    \"\"\"\n",
    "    \n",
    "    mse = sum((y-yp)**2)/len(y)\n",
    "    return mse\n",
    "    \n",
    "def mean_absolute_error(y, yp):\n",
    "    \"\"\"\n",
    "    計算 MAE\n",
    "    Args:\n",
    "        - y: 實際值\n",
    "        - yp: 預測值\n",
    "    Return:\n",
    "        - mae: MAE\n",
    "    \"\"\"\n",
    "    mae = MAE = sum(abs(y - yp)) / len(y)\n",
    "    return mae\n"
   ]
  },
  {
   "cell_type": "code",
   "execution_count": 51,
   "metadata": {},
   "outputs": [
    {
     "data": {
      "image/png": "[encoded data removed]",
      "text/plain": [
       "<Figure size 432x288 with 1 Axes>"
      ]
     },
     "metadata": {
      "needs_background": "light"
     },
     "output_type": "display_data"
    }
   ],
   "source": [
    "w = 3\n",
    "b = 0.5\n",
    "\n",
    "x_lin = np.linspace(0, 100, 101)\n",
    "\n",
    "y = (x_lin + np.random.randn(101) * 5) * w + b\n",
    "\n",
    "plt.plot(x_lin, y, 'b.', label = 'data points')\n",
    "plt.title(\"Assume we have data points\")\n",
    "plt.legend(loc = 2)\n",
    "plt.show()"
   ]
  },
  {
   "cell_type": "code",
   "execution_count": 52,
   "metadata": {},
   "outputs": [
    {
     "data": {
      "image/png": "[encoded data removed]",
      "text/plain": [
       "<Figure size 432x288 with 1 Axes>"
      ]
     },
     "metadata": {
      "needs_background": "light"
     },
     "output_type": "display_data"
    }
   ],
   "source": [
    "y_hat = x_lin * w + b\n",
    "plt.plot(x_lin, y, 'b.', label = 'data')\n",
    "plt.plot(x_lin, y_hat, 'r-', label = 'prediction')\n",
    "plt.title(\"Assume we have data points (And the prediction)\")\n",
    "plt.legend(loc = 2)\n",
    "plt.show()"
   ]
  },
  {
   "cell_type": "code",
   "execution_count": 53,
   "metadata": {
    "scrolled": true
   },
   "outputs": [
    {
     "name": "stdout",
     "output_type": "stream",
     "text": [
      "The Mean squared error is 228.317\n",
      "The Mean absolute error is 11.882\n"
     ]
    }
   ],
   "source": [
    "# 執行 Function, 確認有沒有正常執行\n",
    "MSE = my_mean_squared_error(y, y_hat)\n",
    "MAE = mean_absolute_error(y, y_hat)\n",
    "print(\"The Mean squared error is %.3f\" % (MSE))\n",
    "print(\"The Mean absolute error is %.3f\" % (MAE))"
   ]
  },
  {
   "cell_type": "code",
   "execution_count": 55,
   "metadata": {},
   "outputs": [
    {
     "name": "stdout",
     "output_type": "stream",
     "text": [
      "ok\n",
      "The Mean squared error is 228.317\n",
      "The Mean squared error is 228.317\n"
     ]
    }
   ],
   "source": [
    "#unit test\n",
    "from sklearn.metrics import mean_squared_error\n",
    "my_mse = mean_squared_error(y, y_hat)\n",
    "MSE = my_mean_squared_error(y, y_hat)\n",
    "\n",
    "if((\"%.3f\" % (my_mse)) == (\"%.3f\" % (MSE))): \n",
    "    print(\"ok\");\n",
    "else :\n",
    "    print(\"fail\");\n",
    "\n",
    "print(\"The Mean squared error is %.3f\" % (my_mse))\n",
    "print(\"The Mean squared error is %.3f\" % (MSE))\n",
    "\n"
   ]
  },
  {
   "cell_type": "code",
   "execution_count": null,
   "metadata": {},
   "outputs": [],
   "source": []
  },
  {
   "cell_type": "code",
   "execution_count": null,
   "metadata": {},
   "outputs": [],
   "source": []
  }
 ],
 "metadata": {
  "anaconda-cloud": {},
  "kernelspec": {
   "display_name": "Python 3",
   "language": "python",
   "name": "python3"
  },
  "language_info": {
   "codemirror_mode": {
    "name": "ipython",
    "version": 3
   },
   "file_extension": ".py",
   "mimetype": "text/x-python",
   "name": "python",
   "nbconvert_exporter": "python",
   "pygments_lexer": "ipython3",
   "version": "3.7.3"
  }
 },
 "nbformat": 4,
 "nbformat_minor": 1
}
